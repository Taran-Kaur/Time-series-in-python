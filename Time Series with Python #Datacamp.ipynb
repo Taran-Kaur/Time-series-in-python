{
 "cells": [
  {
   "cell_type": "markdown",
   "id": "f29d6e22",
   "metadata": {},
   "source": [
    "link - https://app.datacamp.com/learn/skill-tracks/time-series-with-python\n",
    "[pd.Timestamp](#Section1)<br>\n",
    "[pd.Period](#Section2)<br>\n",
    "[to create time series we need sequence of dates](#Section3)<br>\n",
    "[Create a time series : pd.DatetimeIndex](#Section4)<br>\n",
    "[Indexing & Resampling time series](#Section5)<br>\n",
    "[Lags, changes, and returns for stock price series](#Section6)<br>"
   ]
  },
  {
   "cell_type": "code",
   "execution_count": 1,
   "id": "ffcc336b",
   "metadata": {},
   "outputs": [],
   "source": [
    "import pandas as pd\n",
    "from datetime import datetime"
   ]
  },
  {
   "cell_type": "markdown",
   "id": "f95800af",
   "metadata": {},
   "source": [
    "<a name = Section1></a>\n",
    "### pd.Timestamp"
   ]
  },
  {
   "cell_type": "code",
   "execution_count": 9,
   "id": "66313d4d",
   "metadata": {},
   "outputs": [],
   "source": [
    "# to manualy create timestamp & date\n",
    "time_stamp = pd.Timestamp(datetime(2022,9,8))   #yyyy,dd,mm"
   ]
  },
  {
   "cell_type": "code",
   "execution_count": 10,
   "id": "09f6ddb1",
   "metadata": {},
   "outputs": [
    {
     "data": {
      "text/plain": [
       "Timestamp('2022-09-08 00:00:00')"
      ]
     },
     "execution_count": 10,
     "metadata": {},
     "output_type": "execute_result"
    }
   ],
   "source": [
    "time_stamp"
   ]
  },
  {
   "cell_type": "code",
   "execution_count": 5,
   "id": "911e2df9",
   "metadata": {},
   "outputs": [
    {
     "data": {
      "text/plain": [
       "2022"
      ]
     },
     "execution_count": 5,
     "metadata": {},
     "output_type": "execute_result"
    }
   ],
   "source": [
    "time_stamp.year"
   ]
  },
  {
   "cell_type": "code",
   "execution_count": 91,
   "id": "131265ba",
   "metadata": {},
   "outputs": [
    {
     "data": {
      "text/plain": [
       "3"
      ]
     },
     "execution_count": 91,
     "metadata": {},
     "output_type": "execute_result"
    }
   ],
   "source": [
    "time_stamp.day_of_week"
   ]
  },
  {
   "cell_type": "code",
   "execution_count": 11,
   "id": "b4342554",
   "metadata": {},
   "outputs": [
    {
     "data": {
      "text/plain": [
       "'Thursday'"
      ]
     },
     "execution_count": 11,
     "metadata": {},
     "output_type": "execute_result"
    }
   ],
   "source": [
    "time_stamp.day_name()"
   ]
  },
  {
   "cell_type": "code",
   "execution_count": 12,
   "id": "e97572f5",
   "metadata": {},
   "outputs": [
    {
     "data": {
      "text/plain": [
       "'September'"
      ]
     },
     "execution_count": 12,
     "metadata": {},
     "output_type": "execute_result"
    }
   ],
   "source": [
    "time_stamp.month_name()"
   ]
  },
  {
   "cell_type": "markdown",
   "id": "64bc2b2b",
   "metadata": {},
   "source": [
    "<a name = Section2></a>\n",
    "### pd.Period"
   ]
  },
  {
   "cell_type": "code",
   "execution_count": 13,
   "id": "d1bd8c5a",
   "metadata": {},
   "outputs": [],
   "source": [
    "period = pd.Period('2022-02')  # default month-end"
   ]
  },
  {
   "cell_type": "code",
   "execution_count": 14,
   "id": "62222e1a",
   "metadata": {},
   "outputs": [
    {
     "data": {
      "text/plain": [
       "Period('2022-02', 'M')"
      ]
     },
     "execution_count": 14,
     "metadata": {},
     "output_type": "execute_result"
    }
   ],
   "source": [
    "period"
   ]
  },
  {
   "cell_type": "code",
   "execution_count": 16,
   "id": "07adfbce",
   "metadata": {},
   "outputs": [
    {
     "data": {
      "text/plain": [
       "Period('2022-02-28', 'D')"
      ]
     },
     "execution_count": 16,
     "metadata": {},
     "output_type": "execute_result"
    }
   ],
   "source": [
    "# to convert from Month end to Daily frequency\n",
    "period.asfreq('D')"
   ]
  },
  {
   "cell_type": "code",
   "execution_count": 17,
   "id": "5bbfd452",
   "metadata": {},
   "outputs": [
    {
     "data": {
      "text/plain": [
       "Period('2022-02', 'M')"
      ]
     },
     "execution_count": 17,
     "metadata": {},
     "output_type": "execute_result"
    }
   ],
   "source": [
    "# convert pd.Period() to pd.Timestamp() and viceversa\n",
    "period.to_timestamp().to_period('M')"
   ]
  },
  {
   "cell_type": "code",
   "execution_count": 18,
   "id": "60f2344d",
   "metadata": {},
   "outputs": [
    {
     "data": {
      "text/plain": [
       "Period('2022-04', 'M')"
      ]
     },
     "execution_count": 18,
     "metadata": {},
     "output_type": "execute_result"
    }
   ],
   "source": [
    "# adding months to your period from feb to april\n",
    "period + 2"
   ]
  },
  {
   "cell_type": "markdown",
   "id": "f6f97781",
   "metadata": {},
   "source": [
    "<a name = Section3></a>\n",
    "### to create time series we need sequence of dates\n",
    "**pd.date_range : start, end, periods, freq**\n",
    "- need to specify either start date or end date"
   ]
  },
  {
   "cell_type": "code",
   "execution_count": 66,
   "id": "ea6c489a",
   "metadata": {},
   "outputs": [],
   "source": [
    "index = pd.date_range(start= '2022-01-01', periods=11, freq='M')  "
   ]
  },
  {
   "cell_type": "code",
   "execution_count": 67,
   "id": "591d3015",
   "metadata": {},
   "outputs": [
    {
     "data": {
      "text/plain": [
       "DatetimeIndex(['2022-01-31', '2022-02-28', '2022-03-31', '2022-04-30',\n",
       "               '2022-05-31', '2022-06-30', '2022-07-31', '2022-08-31',\n",
       "               '2022-09-30', '2022-10-31', '2022-11-30'],\n",
       "              dtype='datetime64[ns]', freq='M')"
      ]
     },
     "execution_count": 67,
     "metadata": {},
     "output_type": "execute_result"
    }
   ],
   "source": [
    "index"
   ]
  },
  {
   "cell_type": "code",
   "execution_count": 68,
   "id": "96fde0e2",
   "metadata": {},
   "outputs": [
    {
     "data": {
      "text/plain": [
       "Timestamp('2022-02-28 00:00:00', freq='M')"
      ]
     },
     "execution_count": 68,
     "metadata": {},
     "output_type": "execute_result"
    }
   ],
   "source": [
    "index[1]"
   ]
  },
  {
   "cell_type": "code",
   "execution_count": 69,
   "id": "86f416f4",
   "metadata": {},
   "outputs": [
    {
     "data": {
      "text/plain": [
       "PeriodIndex(['2022-01', '2022-02', '2022-03', '2022-04', '2022-05', '2022-06',\n",
       "             '2022-07', '2022-08', '2022-09', '2022-10', '2022-11'],\n",
       "            dtype='period[M]')"
      ]
     },
     "execution_count": 69,
     "metadata": {},
     "output_type": "execute_result"
    }
   ],
   "source": [
    "index.to_period()"
   ]
  },
  {
   "cell_type": "markdown",
   "id": "e360e281",
   "metadata": {},
   "source": [
    "<a name = Section4></a>\n",
    "### Create a time series : pd.DatetimeIndex"
   ]
  },
  {
   "cell_type": "code",
   "execution_count": 70,
   "id": "a65e4aa6",
   "metadata": {},
   "outputs": [
    {
     "name": "stdout",
     "output_type": "stream",
     "text": [
      "<class 'pandas.core.frame.DataFrame'>\n",
      "RangeIndex: 11 entries, 0 to 10\n",
      "Data columns (total 1 columns):\n",
      " #   Column  Non-Null Count  Dtype         \n",
      "---  ------  --------------  -----         \n",
      " 0   date    11 non-null     datetime64[ns]\n",
      "dtypes: datetime64[ns](1)\n",
      "memory usage: 216.0 bytes\n"
     ]
    }
   ],
   "source": [
    "df = pd.DataFrame({'date': index}).info()"
   ]
  },
  {
   "cell_type": "code",
   "execution_count": 71,
   "id": "9746af60",
   "metadata": {},
   "outputs": [],
   "source": [
    "import numpy as np"
   ]
  },
  {
   "cell_type": "code",
   "execution_count": 75,
   "id": "1467473b",
   "metadata": {},
   "outputs": [],
   "source": [
    "data = np.random.random(size=(11,2))"
   ]
  },
  {
   "cell_type": "code",
   "execution_count": 76,
   "id": "763f4121",
   "metadata": {},
   "outputs": [
    {
     "data": {
      "text/plain": [
       "array([[0.1978261 , 0.98043984],\n",
       "       [0.2038735 , 0.43483873],\n",
       "       [0.68845278, 0.66108273],\n",
       "       [0.00391957, 0.22521112],\n",
       "       [0.18966581, 0.31421887],\n",
       "       [0.9414503 , 0.45883111],\n",
       "       [0.78068023, 0.85070883],\n",
       "       [0.59715875, 0.0351618 ],\n",
       "       [0.8404503 , 0.70387269],\n",
       "       [0.40501285, 0.36129814],\n",
       "       [0.83847003, 0.05302867]])"
      ]
     },
     "execution_count": 76,
     "metadata": {},
     "output_type": "execute_result"
    }
   ],
   "source": [
    "data"
   ]
  },
  {
   "cell_type": "code",
   "execution_count": 77,
   "id": "4da9eadf",
   "metadata": {},
   "outputs": [
    {
     "name": "stdout",
     "output_type": "stream",
     "text": [
      "<class 'pandas.core.frame.DataFrame'>\n",
      "DatetimeIndex: 11 entries, 2022-01-31 to 2022-11-30\n",
      "Freq: M\n",
      "Data columns (total 2 columns):\n",
      " #   Column  Non-Null Count  Dtype  \n",
      "---  ------  --------------  -----  \n",
      " 0   0       11 non-null     float64\n",
      " 1   1       11 non-null     float64\n",
      "dtypes: float64(2)\n",
      "memory usage: 264.0 bytes\n"
     ]
    }
   ],
   "source": [
    "df = pd.DataFrame(data = data, index=index).info()"
   ]
  },
  {
   "cell_type": "code",
   "execution_count": 81,
   "id": "11e1f729",
   "metadata": {},
   "outputs": [],
   "source": [
    "# create date range of seven days\n",
    "seven_days = pd.date_range(start ='2017-1-1',periods=7,freq='D')"
   ]
  },
  {
   "cell_type": "code",
   "execution_count": 82,
   "id": "489e510c",
   "metadata": {},
   "outputs": [
    {
     "data": {
      "text/plain": [
       "DatetimeIndex(['2017-01-01', '2017-01-02', '2017-01-03', '2017-01-04',\n",
       "               '2017-01-05', '2017-01-06', '2017-01-07'],\n",
       "              dtype='datetime64[ns]', freq='D')"
      ]
     },
     "execution_count": 82,
     "metadata": {},
     "output_type": "execute_result"
    }
   ],
   "source": [
    "seven_days"
   ]
  },
  {
   "cell_type": "code",
   "execution_count": 92,
   "id": "9a8ae93a",
   "metadata": {},
   "outputs": [
    {
     "name": "stdout",
     "output_type": "stream",
     "text": [
      "6 Sunday\n",
      "0 Monday\n",
      "1 Tuesday\n",
      "2 Wednesday\n",
      "3 Thursday\n",
      "4 Friday\n",
      "5 Saturday\n"
     ]
    }
   ],
   "source": [
    "# Iterate over each date in seven_days and in each iteration, print the .dayofweek and .day_name() attributes.\n",
    "\n",
    "for day in seven_days:\n",
    "    print(day.day_of_week, day.day_name())"
   ]
  },
  {
   "cell_type": "markdown",
   "id": "394363a5",
   "metadata": {},
   "source": [
    "<a name = Section5></a>\n",
    "### Indexing & Resampling time series\n",
    "- convert column of datatype in dataframe = sting to datetime format using **pd.to_datetime()**\n",
    "- .asfreq('D') = calendar day frequency\n",
    "- .asfreq('B') = Business day frequency"
   ]
  },
  {
   "cell_type": "code",
   "execution_count": null,
   "id": "490997c8",
   "metadata": {},
   "outputs": [],
   "source": [
    "# Convert the date column to datetime64\n",
    "data['date'] = pd.to_datetime(data['date'])"
   ]
  },
  {
   "cell_type": "code",
   "execution_count": 93,
   "id": "053367a4",
   "metadata": {},
   "outputs": [],
   "source": [
    "prices = pd.DataFrame()"
   ]
  },
  {
   "cell_type": "code",
   "execution_count": 95,
   "id": "c44d2e27",
   "metadata": {},
   "outputs": [
    {
     "name": "stdout",
     "output_type": "stream",
     "text": [
      "<class 'pandas.core.frame.DataFrame'>\n",
      "Index: 0 entries\n",
      "Empty DataFrame"
     ]
    }
   ],
   "source": [
    "prices.info()"
   ]
  },
  {
   "cell_type": "code",
   "execution_count": null,
   "id": "304159c3",
   "metadata": {},
   "outputs": [],
   "source": [
    "co = co.asfreq('D')"
   ]
  },
  {
   "cell_type": "markdown",
   "id": "1c6555fe",
   "metadata": {},
   "source": [
    "<a name = Section6></a>\n",
    "### Lags, changes, and returns for stock price series"
   ]
  },
  {
   "cell_type": "markdown",
   "id": "6843fa78",
   "metadata": {},
   "source": [
    "you will learn how to move your data across time so that you can compare values at different points in time. This involves shifting values into the future, or creating lags by moving data into the past. You will also learn how to calculate changes between values at different points in time. Lastly, you will see how to calculate the change between values in percentage terms, also called the rate of growth."
   ]
  },
  {
   "cell_type": "markdown",
   "id": "2f3d5b71",
   "metadata": {},
   "source": [
    "- we use pd.read_csv() to read data\n",
    "- .shift() = Your first time series method is dot-shift. It allows you to move all data in a Series or DataFrame into the past or future."
   ]
  },
  {
   "cell_type": "code",
   "execution_count": null,
   "id": "48b46c4f",
   "metadata": {},
   "outputs": [],
   "source": [
    "google = pd.read_csv('google.csv',parse_dates=True,index_col='Date') \n",
    "# or\n",
    "google = pd.read_csv('google.csv', parse_dates=['Date'], index_col='Date')\n",
    "\n",
    "\n",
    "# .shift() :which allows you shift all values in a Series or DataFrame by a number of periods to a different time\n",
    "datafr['abc'] = datafr['abc'].shift()    # defaults to periods = 1\n",
    "# the first value in the series is now missing.\n",
    "\n",
    "datafr['abc'] = datafr['abc'].shift(periods=-1)  # it moves into past\n",
    "# In this case, the last value is now missing.\n",
    "\n",
    "# how to calculate\n",
    "datafr['newcol'] = datafr['chang'].sub(1).mul(100)\n",
    "\n",
    "# .diff(): built-in time-series change\n",
    "datafr['diff'] = datafr['price'].diff()\n",
    "\n",
    "# Created shifted_30 here\n",
    "yahoo['shifted_30'] = yahoo.price.shift(periods=30, freq='B')\n",
    "\n",
    "yahoo.info()\n",
    "\n",
    "# Subtract shifted_30 from price\n",
    "yahoo['change_30'] = yahoo['price']-yahoo['shifted_30']\n",
    "\n",
    "# Get the 30-day price difference\n",
    "yahoo['diff_30'] = yahoo.price.diff(periods=30)\n",
    "\n",
    "# Inspect the last five rows of price\n",
    "print(yahoo.tail())\n",
    "\n",
    "# Show the value_counts of the difference between change_30 and diff_30\n",
    "yahoo['val_cou'] = yahoo['change_30'].sub(yahoo['diff_30'])\n",
    "\n",
    "print(yahoo['val_cou'].value_counts())\n",
    "\n",
    "\n",
    "# Create daily_return\n",
    "google['daily_return'] = google.Close.pct_change(periods=1).mul(100)\n",
    "\n",
    "# Create monthly_return\n",
    "google['monthly_return'] = google.Close.pct_change(periods=30).mul(100)\n",
    "\n",
    "# Create annual_return\n",
    "google['annual_return'] = google.Close.pct_change(periods=360).mul(100)\n",
    "\n",
    "# Plot the result\n",
    "google.plot(subplots=True)\n",
    "plt.show()\n"
   ]
  },
  {
   "cell_type": "code",
   "execution_count": 96,
   "id": "59533a6d",
   "metadata": {},
   "outputs": [
    {
     "data": {
      "image/png": "[encoded data removed]",
      "text/plain": [
       "<Figure size 432x288 with 1 Axes>"
      ]
     },
     "metadata": {
      "needs_background": "light"
     },
     "output_type": "display_data"
    }
   ],
   "source": [
    "import matplotlib.pyplot as plt\n",
    "fig = plt.figure()\n",
    "ax = fig.add_subplot(111)\n",
    "plt.plot([10, 12, 14, 16])\n",
    "plt.show()"
   ]
  },
  {
   "cell_type": "code",
   "execution_count": 98,
   "id": "d734d7ba",
   "metadata": {},
   "outputs": [
    {
     "data": {
      "image/png": "[encoded data removed]",
      "text/plain": [
       "<Figure size 576x432 with 1 Axes>"
      ]
     },
     "metadata": {
      "needs_background": "light"
     },
     "output_type": "display_data"
    }
   ],
   "source": [
    "import matplotlib.pyplot as plt\n",
    "\n",
    "def test():\n",
    "    fig = plt.figure(figsize=(8,6))\n",
    "    ax = fig.add_subplot(111)\n",
    "    t = [5,10,15,20,25]\n",
    "    d = [25,50,75,100,125]\n",
    "    plt.plot(t,d,label='d=5t')\n",
    "    ax.set(title='a',xlabel='time', ylabel='dis', xlim=(0,30), ylim=(0,130))\n",
    "    plt.legend()\n",
    "    plt.savefig('scatter.png')\n",
    "    plt.show()\n",
    "    \n",
    "test()"
   ]
  },
  {
   "cell_type": "code",
   "execution_count": null,
   "id": "268f7399",
   "metadata": {},
   "outputs": [],
   "source": []
  }
 ],
 "metadata": {
  "kernelspec": {
   "display_name": "Python 3 (ipykernel)",
   "language": "python",
   "name": "python3"
  },
  "language_info": {
   "codemirror_mode": {
    "name": "ipython",
    "version": 3
   },
   "file_extension": ".py",
   "mimetype": "text/x-python",
   "name": "python",
   "nbconvert_exporter": "python",
   "pygments_lexer": "ipython3",
   "version": "3.9.12"
  }
 },
 "nbformat": 4,
 "nbformat_minor": 5
}
